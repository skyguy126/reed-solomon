{
 "cells": [
  {
   "cell_type": "markdown",
   "metadata": {},
   "source": [
    "### Finite Fields\n",
    "\n",
    "Finite Field Requirements\n",
    "- Closure == All x+y and x*y are in F\n",
    "- Associative\n",
    "- Commutative\n",
    "- Distributive\n",
    "- Identity == There is some element in F and G such that x+F=x and x*G=x\n",
    "- Inverse == For all x in F there is a y such that x+y=0 or y=-x\n",
    "\n"
   ]
  }
 ],
 "metadata": {
  "kernelspec": {
   "display_name": "Python 3",
   "language": "python",
   "name": "python3"
  },
  "language_info": {
   "codemirror_mode": {
    "name": "ipython",
    "version": 3
   },
   "file_extension": ".py",
   "mimetype": "text/x-python",
   "name": "python",
   "nbconvert_exporter": "python",
   "pygments_lexer": "ipython3",
   "version": "3.6.4"
  }
 },
 "nbformat": 4,
 "nbformat_minor": 2
}
